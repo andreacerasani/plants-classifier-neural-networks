{
 "cells": [
  {
   "cell_type": "markdown",
   "metadata": {
    "id": "dF-t533iGMyw"
   },
   "source": [
    "# **Transfer Learning using EfficientNetV2B0**"
   ]
  },
  {
   "cell_type": "code",
   "execution_count": null,
   "metadata": {
    "id": "KakJ9hlKwfYJ"
   },
   "outputs": [],
   "source": [
    "#@title **Loading data from gdrive to memory**\n",
    "# from google.colab import drive\n",
    "# drive.mount('/content/drive')\n",
    "\n",
    "# %cd /content/drive/MyDrive/ANNDL_Project\n",
    "\n",
    "%cd ../../datasets"
   ]
  },
  {
   "cell_type": "code",
   "execution_count": null,
   "metadata": {
    "id": "vwIzjeRcnS4z"
   },
   "outputs": [],
   "source": [
    "!yes A | unzip data_splitted.zip -d data_splitted\n",
    "!yes A | unzip data_cleaned_for_training.zip\n",
    "\n",
    "# !yes A | unzip training_data_final.zip"
   ]
  },
  {
   "cell_type": "code",
   "execution_count": null,
   "metadata": {
    "id": "Jl7pkkJcU065"
   },
   "outputs": [],
   "source": [
    "!pip install tensorflow==2.10.1"
   ]
  },
  {
   "cell_type": "code",
   "execution_count": null,
   "metadata": {
    "id": "NEvKdq6e74bY"
   },
   "outputs": [],
   "source": [
    "#@title **Imports**\n",
    "import warnings\n",
    "import logging\n",
    "import tensorflow as tf\n",
    "import matplotlib.pyplot as plt\n",
    "from keras import Sequential\n",
    "from keras.preprocessing.image import ImageDataGenerator\n",
    "from keras.initializers import glorot_uniform\n",
    "from keras.models import Model\n",
    "from keras.layers import *\n",
    "from keras.optimizers import Adam\n",
    "import numpy as np\n",
    "import os\n",
    "import random\n",
    "import pandas as pd\n",
    "import scipy\n",
    "from PIL import Image\n",
    "from datetime import datetime\n",
    "from google.colab import files"
   ]
  },
  {
   "cell_type": "code",
   "execution_count": null,
   "metadata": {
    "id": "jSx3yOBD8w43"
   },
   "outputs": [],
   "source": [
    "#@title **Metadata and variables**\n",
    "\n",
    "tfk = tf.keras\n",
    "tfkl = tf.keras.layers\n",
    "\n",
    "dir = \"data_splitted\"\n",
    "\n",
    "input_shape = (96, 96, 3)\n",
    "nclasses = 8\n",
    "seed = 42\n",
    "AUTO = tf.data.AUTOTUNE\n",
    "BATCH_SIZE = 64\n",
    "IMG_SIZE = 96"
   ]
  },
  {
   "cell_type": "code",
   "execution_count": null,
   "metadata": {
    "id": "8qUldqliRSFG"
   },
   "outputs": [],
   "source": [
    "#@title **Setting seed and/or suppressing warnings**\n",
    "os.environ['TF_CPP_MIN_LOG_LEVEL'] = '2'\n",
    "warnings.simplefilter(action='ignore', category=FutureWarning)\n",
    "warnings.simplefilter(action='ignore', category=Warning)\n",
    "tf.get_logger().setLevel('INFO')\n",
    "tf.autograph.set_verbosity(0)\n",
    "\n",
    "tf.get_logger().setLevel(logging.ERROR)\n",
    "tf.get_logger().setLevel('ERROR')\n",
    "tf.compat.v1.logging.set_verbosity(tf.compat.v1.logging.ERROR)\n",
    "\n",
    "# Setting random seed for reproducibility\n",
    "random.seed(seed)\n",
    "os.environ['PYTHONHASHSEED'] = str(seed)\n",
    "np.random.seed(seed)\n",
    "tf.random.set_seed(seed)\n",
    "tf.compat.v1.set_random_seed(seed)"
   ]
  },
  {
   "cell_type": "code",
   "source": [
    "#@title **Image Dataset from directory (already resized)**\n",
    "def get_image_dataset(dir, seed, width=96, height=96):\n",
    "    \n",
    "    train_dir = dir+\"/train\"\n",
    "    test_dir = dir+\"/test\"\n",
    "    val_dir = dir+\"/val\"\n",
    "    train_ds = tfk.utils.image_dataset_from_directory(\n",
    "        train_dir,\n",
    "        label_mode='categorical',\n",
    "        seed=seed,\n",
    "        image_size=(224,224),\n",
    "        batch_size = 32\n",
    "    )\n",
    "    val_ds = tfk.utils.image_dataset_from_directory(\n",
    "        val_dir,\n",
    "        label_mode='categorical',\n",
    "        seed=seed,\n",
    "        image_size=(224,224),\n",
    "        batch_size = 32\n",
    "    )\n",
    "    test_ds = tfk.utils.image_dataset_from_directory(\n",
    "        test_dir,\n",
    "        label_mode='categorical',\n",
    "        seed=seed,\n",
    "        image_size=(224,224),\n",
    "        batch_size = 32\n",
    "    )\n",
    "    \n",
    "    return train_ds, val_ds, test_ds"
   ],
   "metadata": {
    "id": "UYNc6c2fcUkQ"
   },
   "execution_count": null,
   "outputs": []
  },
  {
   "cell_type": "code",
   "execution_count": null,
   "metadata": {
    "id": "XX9cZU04__Aa"
   },
   "outputs": [],
   "source": [
    "#@title **Utility function to create folders and callbacks for training**\n",
    "def create_folders_and_callbacks(model_name):\n",
    "\n",
    "  exps_dir = os.path.join('trained_models')\n",
    "  if not os.path.exists(exps_dir):\n",
    "      os.makedirs(exps_dir)\n",
    "\n",
    "  now = datetime.now().strftime('%m-%d_%H-%M-%S')\n",
    "\n",
    "  exp_dir = os.path.join(exps_dir, model_name + '_' + str(now))\n",
    "  if not os.path.exists(exp_dir):\n",
    "      os.makedirs(exp_dir)\n",
    "      \n",
    "  callbacks = []\n",
    "\n",
    "  # Model checkpoint\n",
    "  # ----------------\n",
    "  ckpt_dir = os.path.join(exp_dir, 'ckpts')\n",
    "  if not os.path.exists(ckpt_dir):\n",
    "      os.makedirs(ckpt_dir)\n",
    "\n",
    "  ckpt_callback = tf.keras.callbacks.ModelCheckpoint(\n",
    "                                                     filepath=ckpt_dir + '/cp-{val_accuracy:.2f}-{epoch:02d}.ckpt', # Checkpoint is saved with validation accuracy in the filename\n",
    "                                                     monitor='val_accuracy', \n",
    "                                                     save_weights_only=True, # True to save only weights\n",
    "                                                     save_best_only=True, # True to save only the best epoch \n",
    "                                                     initial_value_threshold=0.7 # Model is saved only if val_accuracy > initial_value_threshold\n",
    "                                                     ) \n",
    "\n",
    "  callbacks.append(ckpt_callback)\n",
    "\n",
    "\n",
    "  # Visualize Learning on Tensorboard\n",
    "  # ---------------------------------\n",
    "  tb_dir = os.path.join(exp_dir, 'tb_logs')\n",
    "  if not os.path.exists(tb_dir):\n",
    "      os.makedirs(tb_dir)\n",
    "      \n",
    "  # By default shows losses and metrics for both training and validation\n",
    "  tb_callback = tf.keras.callbacks.TensorBoard(log_dir=tb_dir, \n",
    "                                               profile_batch=0,\n",
    "                                               histogram_freq=1)  # if > 0 (epochs) shows weights histograms\n",
    "  callbacks.append(tb_callback)\n",
    "\n",
    "  # Early Stopping\n",
    "  # --------------\n",
    "  es_callback = tf.keras.callbacks.EarlyStopping(monitor='val_accuracy', patience=15, restore_best_weights=True)\n",
    "  callbacks.append(es_callback)\n",
    "\n",
    "  return callbacks, exp_dir"
   ]
  },
  {
   "cell_type": "markdown",
   "metadata": {
    "id": "KAUxg31mGjwP"
   },
   "source": [
    "---\n",
    "\n",
    "## **Transfer Learning**"
   ]
  },
  {
   "cell_type": "code",
   "source": [
    "#@title **External Augmentation block**\n",
    "\n",
    "img_augmentation = Sequential(\n",
    "    [\n",
    "        tfk.layers.RandomRotation(factor=1),\n",
    "        tfk.layers.RandomZoom(width_factor=0.2, height_factor=0.2),\n",
    "        tfk.layers.RandomTranslation(height_factor=0.2, width_factor=0.2),\n",
    "        tfk.layers.RandomFlip(),\n",
    "        tfk.layers.RandomContrast(factor=0.3),\n",
    "    ],\n",
    "    name=\"img_augmentation\",\n",
    ")"
   ],
   "metadata": {
    "id": "d9mVtFPOST9R"
   },
   "execution_count": null,
   "outputs": []
  },
  {
   "cell_type": "code",
   "execution_count": null,
   "metadata": {
    "id": "IcUH74p_tjOd"
   },
   "outputs": [],
   "source": [
    "#@title **Build EfficientNet v2 B0**\n",
    "def build_model_efficientnet_v2_b0_tl():\n",
    "  inputs = tfkl.Input(shape=(224, 224, 3))\n",
    "  x = img_augmentation(inputs)\n",
    "  model = tfk.applications.EfficientNetV2B0(include_top=False, input_tensor=x, weights=\"imagenet\", input_shape=(224, 224, 3))\n",
    "  # Freeze the pretrained weights\n",
    "  model.trainable = False\n",
    "  # Rebuild top\n",
    "  x = tfkl.GlobalAveragePooling2D(name=\"avg_pool\")(model.output)\n",
    "  top_dropout_rate = 0.3\n",
    "  x = tfkl.Dense(256, activation=\"relu\")(x)\n",
    "  x = tfkl.Dropout(top_dropout_rate, name=\"top_dropout\")(x)\n",
    "  outputs = tfkl.Dense(8, activation=\"softmax\", name=\"pred\")(x)\n",
    "\n",
    "  # Compile\n",
    "  model = tf.keras.Model(inputs, outputs, name=\"EfficientNet\")\n",
    "  optimizer = tf.keras.optimizers.Adam(learning_rate=1e-2)\n",
    "  model.compile(\n",
    "      optimizer=optimizer, loss=\"categorical_crossentropy\", metrics=[\"accuracy\"]\n",
    "  )\n",
    "  return model\n"
   ]
  },
  {
   "cell_type": "code",
   "source": [
    "tl_model = build_model_efficientnet_v2_b0_tl()"
   ],
   "metadata": {
    "id": "GJp9lc32qjoK"
   },
   "execution_count": null,
   "outputs": []
  },
  {
   "cell_type": "code",
   "execution_count": null,
   "metadata": {
    "id": "rRe5tpQk5cCV"
   },
   "outputs": [],
   "source": [
    "tl_model.summary()"
   ]
  },
  {
   "cell_type": "code",
   "source": [
    "callbacks, model_folder_dir = create_folders_and_callbacks(model_name='EfficientNetV2B0_TL')\n",
    "train_ds, val_ds, test_ds = get_image_dataset(dir, seed=seed)"
   ],
   "metadata": {
    "id": "UKRFLhGApWb7"
   },
   "execution_count": null,
   "outputs": []
  },
  {
   "cell_type": "code",
   "source": [
    "# Train the model\n",
    "tl_history = tl_model.fit(\n",
    "    x = train_ds,\n",
    "    batch_size = 64,\n",
    "    epochs = 100,\n",
    "    validation_data = val_ds,\n",
    "    callbacks = callbacks\n",
    ").history"
   ],
   "metadata": {
    "id": "gNoqRbf1rPD4"
   },
   "execution_count": null,
   "outputs": []
  },
  {
   "cell_type": "code",
   "source": [
    "tl_model.save('saved_models/EfficientNetv2B0')"
   ],
   "metadata": {
    "id": "jkixQ9lg_BfO"
   },
   "execution_count": null,
   "outputs": []
  },
  {
   "cell_type": "code",
   "source": [
    "del tl_model"
   ],
   "metadata": {
    "id": "4Rgn0leW_dyx"
   },
   "execution_count": null,
   "outputs": []
  },
  {
   "cell_type": "markdown",
   "metadata": {
    "id": "OaKxRgp-HQzG"
   },
   "source": [
    "### Fine Tuning"
   ]
  },
  {
   "cell_type": "code",
   "execution_count": null,
   "metadata": {
    "id": "PfPJePumjRjp"
   },
   "outputs": [],
   "source": [
    "#@title Reloading the model after transfer learning (through checkpoints or the entire model)\n",
    "\n",
    "ft_model = tfk.models.load_model('saved_models/EfficientNetv2B0')\n",
    "\n",
    "#ft_model = build_model_efficientnet_v2_b0_tl()\n",
    "#ft_model.load_weights(weight_path)"
   ]
  },
  {
   "cell_type": "code",
   "execution_count": null,
   "metadata": {
    "id": "2zjBB3hO_OSI"
   },
   "outputs": [],
   "source": [
    "#@title **Unfreezing completely (or part of) the pretrained network and re-compiling**\n",
    "\n",
    "# Otherwise, we unfreeze as much as we can\n",
    "layers_to_unfreeze = 100\n",
    "for i, layer in enumerate(ft_model.layers[-layers_to_unfreeze:]):\n",
    "    # BatchNormalization layers are not unfreezed because, if trainable, they lead to a performance decrease\n",
    "    if not isinstance(layer, tfk.layers.BatchNormalization):\n",
    "        layer.trainable = True\n"
   ]
  },
  {
   "cell_type": "code",
   "source": [
    "# Re-compile the model\n",
    "ft_model.compile(loss=tfk.losses.CategoricalCrossentropy(), optimizer=tfk.optimizers.Adam(1e-4), metrics='accuracy') # Lowered learning rate"
   ],
   "metadata": {
    "id": "ZqtC-Cddi251"
   },
   "execution_count": null,
   "outputs": []
  },
  {
   "cell_type": "code",
   "source": [
    "callbacks, model_folder_dir = create_folders_and_callbacks(model_name='EfficientNetV2B0_FT')\n",
    "train_ds, val_ds, test_ds = get_image_dataset(dir, seed=seed)"
   ],
   "metadata": {
    "id": "f4JL3zxwpbki"
   },
   "execution_count": null,
   "outputs": []
  },
  {
   "cell_type": "code",
   "execution_count": null,
   "metadata": {
    "id": "gReRof3iferf"
   },
   "outputs": [],
   "source": [
    "#@title **Fine-Tuning the partially unfreezed model**\n",
    "\n",
    "ft_history = ft_model.fit(\n",
    "    x = train_ds,\n",
    "    batch_size = 64,\n",
    "    epochs = 50,\n",
    "    callbacks = callbacks,\n",
    "    validation_data = val_ds\n",
    ").history"
   ]
  },
  {
   "cell_type": "markdown",
   "metadata": {
    "id": "DA1PZYFxSyDO"
   },
   "source": [
    "\n",
    "---\n",
    "\n",
    "**Save of models**\n"
   ]
  },
  {
   "cell_type": "code",
   "execution_count": null,
   "metadata": {
    "id": "q5UfFNLhS4g6"
   },
   "outputs": [],
   "source": [
    "ft_model.save(\"saved_models/...\")"
   ]
  },
  {
   "cell_type": "markdown",
   "metadata": {
    "id": "-NSKgzvoLBQT"
   },
   "source": [
    "\n",
    "\n",
    "---\n",
    "\n",
    "**Loading of models**"
   ]
  },
  {
   "cell_type": "code",
   "execution_count": null,
   "metadata": {
    "id": "ltJzWhgvuYSw"
   },
   "outputs": [],
   "source": [
    "#@title **Loading of an existing model (having only the weights)**\n",
    "# after having already built the model...\n",
    "tl_model.load_weights('weight path')"
   ]
  },
  {
   "cell_type": "code",
   "execution_count": null,
   "metadata": {
    "id": "6EMAei7BR-te"
   },
   "outputs": [],
   "source": [
    "#@title **Loading of an existing model (Complete)**\n",
    "model = tf.keras.models.load_model(\"saved_models/...\")"
   ]
  },
  {
   "cell_type": "code",
   "execution_count": null,
   "metadata": {
    "id": "y_Slc1rrspXF"
   },
   "outputs": [],
   "source": [
    "#@title **Testing a model and re-saving**\n",
    "\n",
    "train_ds, val_ds, test_ds = get_image_dataset(dir=dir, seed=seed)\n",
    "\n",
    "# getting model performance on the test set\n",
    "model_test_metrics = ft_model.evaluate(test_ds, return_dict=True)\n",
    "\n",
    "# saving model in saved_models/modelname_accuracy\n",
    "# saved_model_name = 'EfficientNetV2B0' + str(model_test_metrics[\"accuracy\"])\n",
    "saved_model_name = 'EfficientNetv2B0'\n",
    "saved_model_dir = 'saved_models/' + saved_model_name\n",
    "ft_model.save(saved_model_dir)"
   ]
  },
  {
   "cell_type": "markdown",
   "metadata": {
    "id": "kUHrx4B3SYko"
   },
   "source": [
    "\n",
    "\n",
    "---\n",
    "**Download of the model in .zip format**\n"
   ]
  },
  {
   "cell_type": "code",
   "execution_count": null,
   "metadata": {
    "id": "sO7CjPfa_gSJ"
   },
   "outputs": [],
   "source": [
    "zipped_model = saved_model_dir + '/' + saved_model_name + '.zip'"
   ]
  },
  {
   "cell_type": "code",
   "execution_count": null,
   "metadata": {
    "id": "KwoOlqg7_vAT"
   },
   "outputs": [],
   "source": [
    "!zip -r {zipped_model} {saved_model_dir}"
   ]
  },
  {
   "cell_type": "code",
   "execution_count": null,
   "metadata": {
    "id": "uuP0QlFQ_zSm"
   },
   "outputs": [],
   "source": [
    "files.download(zipped_model)"
   ]
  },
  {
   "cell_type": "markdown",
   "metadata": {
    "id": "mckeoLzeOAvx"
   },
   "source": [
    "\n",
    "\n",
    "---\n",
    "\n"
   ]
  }
 ],
 "metadata": {
  "accelerator": "GPU",
  "colab": {
   "provenance": [],
   "collapsed_sections": [
    "OaKxRgp-HQzG"
   ]
  },
  "gpuClass": "premium",
  "kernelspec": {
   "display_name": "Python 3",
   "name": "python3"
  },
  "language_info": {
   "name": "python"
  }
 },
 "nbformat": 4,
 "nbformat_minor": 0
}